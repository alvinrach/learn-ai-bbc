{
  "nbformat": 4,
  "nbformat_minor": 5,
  "metadata": {
    "kernelspec": {
      "display_name": "Python 3",
      "language": "python",
      "name": "python3"
    },
    "language_info": {
      "codemirror_mode": {
        "name": "ipython",
        "version": 3
      },
      "file_extension": ".py",
      "mimetype": "text/x-python",
      "name": "python",
      "nbconvert_exporter": "python",
      "pygments_lexer": "ipython3",
      "version": "3.8.8"
    },
    "toc": {
      "base_numbering": 1,
      "nav_menu": {},
      "number_sections": true,
      "sideBar": true,
      "skip_h1_title": false,
      "title_cell": "Table of Contents",
      "title_sidebar": "Contents",
      "toc_cell": false,
      "toc_position": {},
      "toc_section_display": true,
      "toc_window_display": false
    },
    "colab": {
      "name": "Kaggle NLP-LSTM BBC News Article Classification.ipynb",
      "provenance": [],
      "collapsed_sections": [],
      "include_colab_link": true
    },
    "accelerator": "GPU"
  },
  "cells": [
    {
      "cell_type": "markdown",
      "metadata": {
        "id": "view-in-github",
        "colab_type": "text"
      },
      "source": [
        "<a href=\"https://colab.research.google.com/github/alvinrach/learn-ai-bbc/blob/main/Kaggle_NLP_LSTM_BBC_News_Article_Classification.ipynb\" target=\"_parent\"><img src=\"https://colab.research.google.com/assets/colab-badge.svg\" alt=\"Open In Colab\"/></a>"
      ]
    },
    {
      "cell_type": "code",
      "metadata": {
        "colab": {
          "base_uri": "https://localhost:8080/"
        },
        "id": "0d69f2ff",
        "outputId": "0bccd1dd-85eb-491a-948b-fe5d015fbcdd"
      },
      "source": [
        "import pandas as pd\n",
        "import numpy as np\n",
        "import tensorflow as tf\n",
        "\n",
        "!pip install contractions\n",
        "import re\n",
        "import contractions\n",
        "import nltk\n",
        "nltk.download('stopwords')\n",
        "\n",
        "from tensorflow.keras.preprocessing.text import Tokenizer\n",
        "from tensorflow.keras.preprocessing.sequence import pad_sequences\n",
        "from sklearn.model_selection import train_test_split"
      ],
      "id": "0d69f2ff",
      "execution_count": 26,
      "outputs": [
        {
          "output_type": "stream",
          "text": [
            "Requirement already satisfied: contractions in /usr/local/lib/python3.7/dist-packages (0.0.52)\n",
            "Requirement already satisfied: textsearch>=0.0.21 in /usr/local/lib/python3.7/dist-packages (from contractions) (0.0.21)\n",
            "Requirement already satisfied: anyascii in /usr/local/lib/python3.7/dist-packages (from textsearch>=0.0.21->contractions) (0.2.0)\n",
            "Requirement already satisfied: pyahocorasick in /usr/local/lib/python3.7/dist-packages (from textsearch>=0.0.21->contractions) (1.4.2)\n",
            "[nltk_data] Downloading package stopwords to /root/nltk_data...\n",
            "[nltk_data]   Package stopwords is already up-to-date!\n"
          ],
          "name": "stdout"
        }
      ]
    },
    {
      "cell_type": "code",
      "metadata": {
        "id": "wzK9PlJHCRHT"
      },
      "source": [
        "d = pd.read_csv('https://raw.githubusercontent.com/alvinrach/learn-ai-bbc/main/BBC%20News%20Train.csv')\n",
        "test = pd.read_csv('https://raw.githubusercontent.com/alvinrach/learn-ai-bbc/main/BBC%20News%20Test.csv')\n",
        "sample = pd.read_csv('https://raw.githubusercontent.com/alvinrach/learn-ai-bbc/main/BBC%20News%20Sample%20Solution.csv')"
      ],
      "id": "wzK9PlJHCRHT",
      "execution_count": 27,
      "outputs": []
    },
    {
      "cell_type": "code",
      "metadata": {
        "colab": {
          "base_uri": "https://localhost:8080/"
        },
        "id": "aacea65d",
        "outputId": "136ac14a-c570-405b-e81b-e2919d11dfc6"
      },
      "source": [
        "d.info()"
      ],
      "id": "aacea65d",
      "execution_count": 28,
      "outputs": [
        {
          "output_type": "stream",
          "text": [
            "<class 'pandas.core.frame.DataFrame'>\n",
            "RangeIndex: 1490 entries, 0 to 1489\n",
            "Data columns (total 3 columns):\n",
            " #   Column     Non-Null Count  Dtype \n",
            "---  ------     --------------  ----- \n",
            " 0   ArticleId  1490 non-null   int64 \n",
            " 1   Text       1490 non-null   object\n",
            " 2   Category   1490 non-null   object\n",
            "dtypes: int64(1), object(2)\n",
            "memory usage: 35.0+ KB\n"
          ],
          "name": "stdout"
        }
      ]
    },
    {
      "cell_type": "code",
      "metadata": {
        "id": "7cfd063a"
      },
      "source": [
        "d = d.drop('ArticleId',1)"
      ],
      "id": "7cfd063a",
      "execution_count": 29,
      "outputs": []
    },
    {
      "cell_type": "code",
      "metadata": {
        "colab": {
          "base_uri": "https://localhost:8080/",
          "height": 414
        },
        "id": "242d3f00",
        "outputId": "40274e49-7b63-4efb-e8db-e73b521b1780"
      },
      "source": [
        "d"
      ],
      "id": "242d3f00",
      "execution_count": 30,
      "outputs": [
        {
          "output_type": "execute_result",
          "data": {
            "text/html": [
              "<div>\n",
              "<style scoped>\n",
              "    .dataframe tbody tr th:only-of-type {\n",
              "        vertical-align: middle;\n",
              "    }\n",
              "\n",
              "    .dataframe tbody tr th {\n",
              "        vertical-align: top;\n",
              "    }\n",
              "\n",
              "    .dataframe thead th {\n",
              "        text-align: right;\n",
              "    }\n",
              "</style>\n",
              "<table border=\"1\" class=\"dataframe\">\n",
              "  <thead>\n",
              "    <tr style=\"text-align: right;\">\n",
              "      <th></th>\n",
              "      <th>Text</th>\n",
              "      <th>Category</th>\n",
              "    </tr>\n",
              "  </thead>\n",
              "  <tbody>\n",
              "    <tr>\n",
              "      <th>0</th>\n",
              "      <td>worldcom ex-boss launches defence lawyers defe...</td>\n",
              "      <td>business</td>\n",
              "    </tr>\n",
              "    <tr>\n",
              "      <th>1</th>\n",
              "      <td>german business confidence slides german busin...</td>\n",
              "      <td>business</td>\n",
              "    </tr>\n",
              "    <tr>\n",
              "      <th>2</th>\n",
              "      <td>bbc poll indicates economic gloom citizens in ...</td>\n",
              "      <td>business</td>\n",
              "    </tr>\n",
              "    <tr>\n",
              "      <th>3</th>\n",
              "      <td>lifestyle  governs mobile choice  faster  bett...</td>\n",
              "      <td>tech</td>\n",
              "    </tr>\n",
              "    <tr>\n",
              "      <th>4</th>\n",
              "      <td>enron bosses in $168m payout eighteen former e...</td>\n",
              "      <td>business</td>\n",
              "    </tr>\n",
              "    <tr>\n",
              "      <th>...</th>\n",
              "      <td>...</td>\n",
              "      <td>...</td>\n",
              "    </tr>\n",
              "    <tr>\n",
              "      <th>1485</th>\n",
              "      <td>double eviction from big brother model caprice...</td>\n",
              "      <td>entertainment</td>\n",
              "    </tr>\n",
              "    <tr>\n",
              "      <th>1486</th>\n",
              "      <td>dj double act revamp chart show dj duo jk and ...</td>\n",
              "      <td>entertainment</td>\n",
              "    </tr>\n",
              "    <tr>\n",
              "      <th>1487</th>\n",
              "      <td>weak dollar hits reuters revenues at media gro...</td>\n",
              "      <td>business</td>\n",
              "    </tr>\n",
              "    <tr>\n",
              "      <th>1488</th>\n",
              "      <td>apple ipod family expands market apple has exp...</td>\n",
              "      <td>tech</td>\n",
              "    </tr>\n",
              "    <tr>\n",
              "      <th>1489</th>\n",
              "      <td>santy worm makes unwelcome visit thousands of ...</td>\n",
              "      <td>tech</td>\n",
              "    </tr>\n",
              "  </tbody>\n",
              "</table>\n",
              "<p>1490 rows × 2 columns</p>\n",
              "</div>"
            ],
            "text/plain": [
              "                                                   Text       Category\n",
              "0     worldcom ex-boss launches defence lawyers defe...       business\n",
              "1     german business confidence slides german busin...       business\n",
              "2     bbc poll indicates economic gloom citizens in ...       business\n",
              "3     lifestyle  governs mobile choice  faster  bett...           tech\n",
              "4     enron bosses in $168m payout eighteen former e...       business\n",
              "...                                                 ...            ...\n",
              "1485  double eviction from big brother model caprice...  entertainment\n",
              "1486  dj double act revamp chart show dj duo jk and ...  entertainment\n",
              "1487  weak dollar hits reuters revenues at media gro...       business\n",
              "1488  apple ipod family expands market apple has exp...           tech\n",
              "1489  santy worm makes unwelcome visit thousands of ...           tech\n",
              "\n",
              "[1490 rows x 2 columns]"
            ]
          },
          "metadata": {
            "tags": []
          },
          "execution_count": 30
        }
      ]
    },
    {
      "cell_type": "code",
      "metadata": {
        "id": "80b684ae"
      },
      "source": [
        "# Cleaning the texts\n",
        "def txtprocess(txt):\n",
        "    # Lower the texts\n",
        "    txt = str(txt).lower()\n",
        "    # Remove contractions\n",
        "    txt = contractions.fix(txt)\n",
        "    \n",
        "    # Just pick the alphabet\n",
        "    txt = re.sub(r'[^a-zA-Z]', ' ', txt)\n",
        "    # Fix unnecessary space\n",
        "    txt = re.sub(' +', ' ', txt)\n",
        "    \n",
        "    txt = ' '.join(txt.split())\n",
        "    \n",
        "    return txt\n",
        "\n",
        "# Apply the function\n",
        "d['Text'] = d['Text'].apply(txtprocess)"
      ],
      "id": "80b684ae",
      "execution_count": 31,
      "outputs": []
    },
    {
      "cell_type": "code",
      "metadata": {
        "id": "d349ca1a"
      },
      "source": [
        "stop_words = set(nltk.corpus.stopwords.words('english'))\n",
        "# stop_words.remove('no')\n",
        "# stop_words.remove('not')\n",
        "# stop_words.remove('but')\n",
        "\n",
        "def remove_stopwords(txt):\n",
        "    no_stopword_txt = [w for w in txt.split() if not w in stop_words]\n",
        "    return ' '.join(no_stopword_txt)\n",
        "\n",
        "d['Text'] = d['Text'].apply(lambda x: remove_stopwords(x))"
      ],
      "id": "d349ca1a",
      "execution_count": 32,
      "outputs": []
    },
    {
      "cell_type": "code",
      "metadata": {
        "colab": {
          "base_uri": "https://localhost:8080/",
          "height": 414
        },
        "id": "e3de84db",
        "outputId": "4f14714b-f2c7-481d-c4ef-a9bc032acc95"
      },
      "source": [
        "category = pd.get_dummies(d.Category)\n",
        "d_new = pd.concat([d, category], axis=1)\n",
        "d_new = d_new.drop('Category',1)\n",
        "d_new"
      ],
      "id": "e3de84db",
      "execution_count": 33,
      "outputs": [
        {
          "output_type": "execute_result",
          "data": {
            "text/html": [
              "<div>\n",
              "<style scoped>\n",
              "    .dataframe tbody tr th:only-of-type {\n",
              "        vertical-align: middle;\n",
              "    }\n",
              "\n",
              "    .dataframe tbody tr th {\n",
              "        vertical-align: top;\n",
              "    }\n",
              "\n",
              "    .dataframe thead th {\n",
              "        text-align: right;\n",
              "    }\n",
              "</style>\n",
              "<table border=\"1\" class=\"dataframe\">\n",
              "  <thead>\n",
              "    <tr style=\"text-align: right;\">\n",
              "      <th></th>\n",
              "      <th>Text</th>\n",
              "      <th>business</th>\n",
              "      <th>entertainment</th>\n",
              "      <th>politics</th>\n",
              "      <th>sport</th>\n",
              "      <th>tech</th>\n",
              "    </tr>\n",
              "  </thead>\n",
              "  <tbody>\n",
              "    <tr>\n",
              "      <th>0</th>\n",
              "      <td>worldcom ex boss launches defence lawyers defe...</td>\n",
              "      <td>1</td>\n",
              "      <td>0</td>\n",
              "      <td>0</td>\n",
              "      <td>0</td>\n",
              "      <td>0</td>\n",
              "    </tr>\n",
              "    <tr>\n",
              "      <th>1</th>\n",
              "      <td>german business confidence slides german busin...</td>\n",
              "      <td>1</td>\n",
              "      <td>0</td>\n",
              "      <td>0</td>\n",
              "      <td>0</td>\n",
              "      <td>0</td>\n",
              "    </tr>\n",
              "    <tr>\n",
              "      <th>2</th>\n",
              "      <td>bbc poll indicates economic gloom citizens maj...</td>\n",
              "      <td>1</td>\n",
              "      <td>0</td>\n",
              "      <td>0</td>\n",
              "      <td>0</td>\n",
              "      <td>0</td>\n",
              "    </tr>\n",
              "    <tr>\n",
              "      <th>3</th>\n",
              "      <td>lifestyle governs mobile choice faster better ...</td>\n",
              "      <td>0</td>\n",
              "      <td>0</td>\n",
              "      <td>0</td>\n",
              "      <td>0</td>\n",
              "      <td>1</td>\n",
              "    </tr>\n",
              "    <tr>\n",
              "      <th>4</th>\n",
              "      <td>enron bosses payout eighteen former enron dire...</td>\n",
              "      <td>1</td>\n",
              "      <td>0</td>\n",
              "      <td>0</td>\n",
              "      <td>0</td>\n",
              "      <td>0</td>\n",
              "    </tr>\n",
              "    <tr>\n",
              "      <th>...</th>\n",
              "      <td>...</td>\n",
              "      <td>...</td>\n",
              "      <td>...</td>\n",
              "      <td>...</td>\n",
              "      <td>...</td>\n",
              "      <td>...</td>\n",
              "    </tr>\n",
              "    <tr>\n",
              "      <th>1485</th>\n",
              "      <td>double eviction big brother model caprice holb...</td>\n",
              "      <td>0</td>\n",
              "      <td>1</td>\n",
              "      <td>0</td>\n",
              "      <td>0</td>\n",
              "      <td>0</td>\n",
              "    </tr>\n",
              "    <tr>\n",
              "      <th>1486</th>\n",
              "      <td>dj double act revamp chart show dj duo jk joel...</td>\n",
              "      <td>0</td>\n",
              "      <td>1</td>\n",
              "      <td>0</td>\n",
              "      <td>0</td>\n",
              "      <td>0</td>\n",
              "    </tr>\n",
              "    <tr>\n",
              "      <th>1487</th>\n",
              "      <td>weak dollar hits reuters revenues media group ...</td>\n",
              "      <td>1</td>\n",
              "      <td>0</td>\n",
              "      <td>0</td>\n",
              "      <td>0</td>\n",
              "      <td>0</td>\n",
              "    </tr>\n",
              "    <tr>\n",
              "      <th>1488</th>\n",
              "      <td>apple ipod family expands market apple expande...</td>\n",
              "      <td>0</td>\n",
              "      <td>0</td>\n",
              "      <td>0</td>\n",
              "      <td>0</td>\n",
              "      <td>1</td>\n",
              "    </tr>\n",
              "    <tr>\n",
              "      <th>1489</th>\n",
              "      <td>santy worm makes unwelcome visit thousands web...</td>\n",
              "      <td>0</td>\n",
              "      <td>0</td>\n",
              "      <td>0</td>\n",
              "      <td>0</td>\n",
              "      <td>1</td>\n",
              "    </tr>\n",
              "  </tbody>\n",
              "</table>\n",
              "<p>1490 rows × 6 columns</p>\n",
              "</div>"
            ],
            "text/plain": [
              "                                                   Text  business  ...  sport  tech\n",
              "0     worldcom ex boss launches defence lawyers defe...         1  ...      0     0\n",
              "1     german business confidence slides german busin...         1  ...      0     0\n",
              "2     bbc poll indicates economic gloom citizens maj...         1  ...      0     0\n",
              "3     lifestyle governs mobile choice faster better ...         0  ...      0     1\n",
              "4     enron bosses payout eighteen former enron dire...         1  ...      0     0\n",
              "...                                                 ...       ...  ...    ...   ...\n",
              "1485  double eviction big brother model caprice holb...         0  ...      0     0\n",
              "1486  dj double act revamp chart show dj duo jk joel...         0  ...      0     0\n",
              "1487  weak dollar hits reuters revenues media group ...         1  ...      0     0\n",
              "1488  apple ipod family expands market apple expande...         0  ...      0     1\n",
              "1489  santy worm makes unwelcome visit thousands web...         0  ...      0     1\n",
              "\n",
              "[1490 rows x 6 columns]"
            ]
          },
          "metadata": {
            "tags": []
          },
          "execution_count": 33
        }
      ]
    },
    {
      "cell_type": "code",
      "metadata": {
        "id": "c35fec3d"
      },
      "source": [
        "article = d_new['Text'].values\n",
        "label = d_new[category.columns].values"
      ],
      "id": "c35fec3d",
      "execution_count": 34,
      "outputs": []
    },
    {
      "cell_type": "code",
      "metadata": {
        "id": "aece6824"
      },
      "source": [
        "tokenizer = Tokenizer(num_words=None, oov_token='-')\n",
        "tokenizer.fit_on_texts(article)\n",
        " \n",
        "sekuens = tokenizer.texts_to_sequences(article)\n",
        " \n",
        "padded = pad_sequences(sekuens)\n",
        "\n",
        "padded_train, padded_test, y_train, y_test = train_test_split(padded, label, test_size=0.2, random_state=42)"
      ],
      "id": "aece6824",
      "execution_count": 35,
      "outputs": []
    },
    {
      "cell_type": "code",
      "metadata": {
        "colab": {
          "base_uri": "https://localhost:8080/"
        },
        "id": "167cdd4e",
        "outputId": "165c096a-4e49-47ad-9b44-9ee5f6ad0dea"
      },
      "source": [
        "padded_train"
      ],
      "id": "167cdd4e",
      "execution_count": 36,
      "outputs": [
        {
          "output_type": "execute_result",
          "data": {
            "text/plain": [
              "array([[    0,     0,     0, ...,  1882,  1894,   556],\n",
              "       [    0,     0,     0, ...,  3655, 14703, 14704],\n",
              "       [    0,     0,     0, ...,    81,   564,    81],\n",
              "       ...,\n",
              "       [    0,     0,     0, ...,    36,     5,  1852],\n",
              "       [    0,     0,     0, ...,   554,  3494,   167],\n",
              "       [    0,     0,     0, ...,   579,  2885, 10705]], dtype=int32)"
            ]
          },
          "metadata": {
            "tags": []
          },
          "execution_count": 36
        }
      ]
    },
    {
      "cell_type": "code",
      "metadata": {
        "colab": {
          "base_uri": "https://localhost:8080/"
        },
        "id": "434e8858",
        "outputId": "3ea51dbf-05ca-4dc6-e6b8-46aabe51cc73"
      },
      "source": [
        "len(padded[1])"
      ],
      "id": "434e8858",
      "execution_count": 37,
      "outputs": [
        {
          "output_type": "execute_result",
          "data": {
            "text/plain": [
              "1643"
            ]
          },
          "metadata": {
            "tags": []
          },
          "execution_count": 37
        }
      ]
    },
    {
      "cell_type": "code",
      "metadata": {
        "colab": {
          "base_uri": "https://localhost:8080/"
        },
        "id": "49830763",
        "outputId": "658516af-7e36-4265-9863-77b192a94e3b"
      },
      "source": [
        "len(padded)"
      ],
      "id": "49830763",
      "execution_count": 38,
      "outputs": [
        {
          "output_type": "execute_result",
          "data": {
            "text/plain": [
              "1490"
            ]
          },
          "metadata": {
            "tags": []
          },
          "execution_count": 38
        }
      ]
    },
    {
      "cell_type": "code",
      "metadata": {
        "colab": {
          "base_uri": "https://localhost:8080/"
        },
        "id": "a3e4dfad",
        "outputId": "33865c4a-ebcc-439b-b2cc-4e39c2a96dd6"
      },
      "source": [
        "print(dict(list(tokenizer.word_index.items())[:30]))"
      ],
      "id": "a3e4dfad",
      "execution_count": 39,
      "outputs": [
        {
          "output_type": "stream",
          "text": [
            "{'-': 1, 'said': 2, 'mr': 3, 'would': 4, 'year': 5, 'also': 6, 'new': 7, 'people': 8, 'us': 9, 'one': 10, 'could': 11, 'first': 12, 'last': 13, 'two': 14, 'time': 15, 'world': 16, 'uk': 17, 'government': 18, 'film': 19, 'years': 20, 'best': 21, 'bn': 22, 'make': 23, 'told': 24, 'three': 25, 'made': 26, 'get': 27, 'game': 28, 'many': 29, 'back': 30}\n"
          ],
          "name": "stdout"
        }
      ]
    },
    {
      "cell_type": "code",
      "metadata": {
        "colab": {
          "base_uri": "https://localhost:8080/"
        },
        "id": "0e31f331",
        "outputId": "8d5ee1a0-aa51-4fc1-fc28-9d8009d7961f"
      },
      "source": [
        "len(tokenizer.word_index)"
      ],
      "id": "0e31f331",
      "execution_count": 40,
      "outputs": [
        {
          "output_type": "execute_result",
          "data": {
            "text/plain": [
              "23397"
            ]
          },
          "metadata": {
            "tags": []
          },
          "execution_count": 40
        }
      ]
    },
    {
      "cell_type": "code",
      "metadata": {
        "colab": {
          "base_uri": "https://localhost:8080/"
        },
        "id": "c79656c6",
        "outputId": "1210a444-9a55-425c-9b94-d15f98b1a0bb"
      },
      "source": [
        "len(padded_train[1])"
      ],
      "id": "c79656c6",
      "execution_count": 41,
      "outputs": [
        {
          "output_type": "execute_result",
          "data": {
            "text/plain": [
              "1643"
            ]
          },
          "metadata": {
            "tags": []
          },
          "execution_count": 41
        }
      ]
    },
    {
      "cell_type": "code",
      "metadata": {
        "colab": {
          "base_uri": "https://localhost:8080/"
        },
        "id": "a017839b",
        "outputId": "39fd5835-cfd7-4df1-8c73-6d65be7d4dc9"
      },
      "source": [
        "len(padded_test[1])"
      ],
      "id": "a017839b",
      "execution_count": 42,
      "outputs": [
        {
          "output_type": "execute_result",
          "data": {
            "text/plain": [
              "1643"
            ]
          },
          "metadata": {
            "tags": []
          },
          "execution_count": 42
        }
      ]
    },
    {
      "cell_type": "code",
      "metadata": {
        "id": "dfebc642"
      },
      "source": [
        "model = tf.keras.Sequential([\n",
        "    tf.keras.layers.Embedding(input_dim=len(tokenizer.word_index)+1, output_dim=500),\n",
        "    tf.keras.layers.LSTM(16, dropout=0.9),\n",
        "    tf.keras.layers.Dense(5, activation='softmax')\n",
        "])\n",
        "model.compile(loss='categorical_crossentropy',optimizer='adam',metrics=['accuracy'])"
      ],
      "id": "dfebc642",
      "execution_count": 43,
      "outputs": []
    },
    {
      "cell_type": "code",
      "metadata": {
        "colab": {
          "base_uri": "https://localhost:8080/"
        },
        "id": "ea18eda5",
        "outputId": "8e671ea6-a2b0-4d66-8bf8-31784c1e67f6"
      },
      "source": [
        "set_callback = tf.keras.callbacks.EarlyStopping(monitor='val_loss', patience=15)\n",
        "\n",
        "history = model.fit(padded_train, y_train, epochs=60, batch_size=128,\n",
        "                    validation_data=(padded_test, y_test), callbacks=[set_callback], verbose=2)"
      ],
      "id": "ea18eda5",
      "execution_count": 44,
      "outputs": [
        {
          "output_type": "stream",
          "text": [
            "Epoch 1/60\n",
            "10/10 - 6s - loss: 1.6030 - accuracy: 0.2676 - val_loss: 1.5921 - val_accuracy: 0.3221\n",
            "Epoch 2/60\n",
            "10/10 - 4s - loss: 1.5717 - accuracy: 0.3515 - val_loss: 1.5659 - val_accuracy: 0.3658\n",
            "Epoch 3/60\n",
            "10/10 - 4s - loss: 1.5223 - accuracy: 0.4161 - val_loss: 1.5115 - val_accuracy: 0.3826\n",
            "Epoch 4/60\n",
            "10/10 - 4s - loss: 1.4111 - accuracy: 0.4732 - val_loss: 1.3608 - val_accuracy: 0.4698\n",
            "Epoch 5/60\n",
            "10/10 - 4s - loss: 1.2070 - accuracy: 0.6007 - val_loss: 1.1870 - val_accuracy: 0.5705\n",
            "Epoch 6/60\n",
            "10/10 - 4s - loss: 1.0489 - accuracy: 0.6770 - val_loss: 1.0658 - val_accuracy: 0.5906\n",
            "Epoch 7/60\n",
            "10/10 - 4s - loss: 0.9175 - accuracy: 0.7248 - val_loss: 0.9909 - val_accuracy: 0.5839\n",
            "Epoch 8/60\n",
            "10/10 - 4s - loss: 0.7682 - accuracy: 0.7970 - val_loss: 0.8814 - val_accuracy: 0.7114\n",
            "Epoch 9/60\n",
            "10/10 - 4s - loss: 0.6257 - accuracy: 0.9086 - val_loss: 0.7287 - val_accuracy: 0.7953\n",
            "Epoch 10/60\n",
            "10/10 - 4s - loss: 0.5345 - accuracy: 0.9228 - val_loss: 0.6760 - val_accuracy: 0.7651\n",
            "Epoch 11/60\n",
            "10/10 - 4s - loss: 0.4651 - accuracy: 0.9354 - val_loss: 0.6714 - val_accuracy: 0.7852\n",
            "Epoch 12/60\n",
            "10/10 - 4s - loss: 0.4242 - accuracy: 0.9597 - val_loss: 0.5929 - val_accuracy: 0.8221\n",
            "Epoch 13/60\n",
            "10/10 - 4s - loss: 0.3878 - accuracy: 0.9681 - val_loss: 0.5469 - val_accuracy: 0.8423\n",
            "Epoch 14/60\n",
            "10/10 - 4s - loss: 0.3543 - accuracy: 0.9799 - val_loss: 0.5280 - val_accuracy: 0.8356\n",
            "Epoch 15/60\n",
            "10/10 - 4s - loss: 0.3304 - accuracy: 0.9857 - val_loss: 0.5041 - val_accuracy: 0.8591\n",
            "Epoch 16/60\n",
            "10/10 - 4s - loss: 0.3064 - accuracy: 0.9799 - val_loss: 0.5011 - val_accuracy: 0.8557\n",
            "Epoch 17/60\n",
            "10/10 - 3s - loss: 0.2840 - accuracy: 0.9849 - val_loss: 0.4956 - val_accuracy: 0.8456\n",
            "Epoch 18/60\n",
            "10/10 - 4s - loss: 0.2593 - accuracy: 0.9916 - val_loss: 0.4880 - val_accuracy: 0.8557\n",
            "Epoch 19/60\n",
            "10/10 - 4s - loss: 0.2406 - accuracy: 0.9933 - val_loss: 0.4700 - val_accuracy: 0.8624\n",
            "Epoch 20/60\n",
            "10/10 - 4s - loss: 0.2170 - accuracy: 0.9908 - val_loss: 0.4429 - val_accuracy: 0.8523\n",
            "Epoch 21/60\n",
            "10/10 - 4s - loss: 0.1950 - accuracy: 0.9966 - val_loss: 0.4128 - val_accuracy: 0.8758\n",
            "Epoch 22/60\n",
            "10/10 - 4s - loss: 0.1665 - accuracy: 1.0000 - val_loss: 0.4480 - val_accuracy: 0.8691\n",
            "Epoch 23/60\n",
            "10/10 - 4s - loss: 0.1495 - accuracy: 0.9958 - val_loss: 0.4549 - val_accuracy: 0.8624\n",
            "Epoch 24/60\n",
            "10/10 - 4s - loss: 0.1280 - accuracy: 0.9992 - val_loss: 0.4003 - val_accuracy: 0.8859\n",
            "Epoch 25/60\n",
            "10/10 - 4s - loss: 0.1097 - accuracy: 1.0000 - val_loss: 0.3871 - val_accuracy: 0.8859\n",
            "Epoch 26/60\n",
            "10/10 - 4s - loss: 0.0972 - accuracy: 0.9983 - val_loss: 0.3983 - val_accuracy: 0.8859\n",
            "Epoch 27/60\n",
            "10/10 - 4s - loss: 0.0818 - accuracy: 1.0000 - val_loss: 0.4078 - val_accuracy: 0.8826\n",
            "Epoch 28/60\n",
            "10/10 - 4s - loss: 0.0798 - accuracy: 0.9975 - val_loss: 0.3830 - val_accuracy: 0.8893\n",
            "Epoch 29/60\n",
            "10/10 - 4s - loss: 0.0638 - accuracy: 1.0000 - val_loss: 0.3457 - val_accuracy: 0.8960\n",
            "Epoch 30/60\n",
            "10/10 - 4s - loss: 0.0577 - accuracy: 1.0000 - val_loss: 0.3745 - val_accuracy: 0.8859\n",
            "Epoch 31/60\n",
            "10/10 - 4s - loss: 0.0498 - accuracy: 1.0000 - val_loss: 0.4257 - val_accuracy: 0.8725\n",
            "Epoch 32/60\n",
            "10/10 - 4s - loss: 0.0506 - accuracy: 0.9975 - val_loss: 0.4065 - val_accuracy: 0.8792\n",
            "Epoch 33/60\n",
            "10/10 - 4s - loss: 0.0452 - accuracy: 0.9992 - val_loss: 0.3928 - val_accuracy: 0.8893\n",
            "Epoch 34/60\n",
            "10/10 - 4s - loss: 0.0382 - accuracy: 0.9992 - val_loss: 0.3310 - val_accuracy: 0.9027\n",
            "Epoch 35/60\n",
            "10/10 - 4s - loss: 0.0420 - accuracy: 0.9975 - val_loss: 0.3852 - val_accuracy: 0.8859\n",
            "Epoch 36/60\n",
            "10/10 - 4s - loss: 0.0454 - accuracy: 0.9966 - val_loss: 0.4297 - val_accuracy: 0.8725\n",
            "Epoch 37/60\n",
            "10/10 - 4s - loss: 0.0326 - accuracy: 0.9992 - val_loss: 0.4144 - val_accuracy: 0.8893\n",
            "Epoch 38/60\n",
            "10/10 - 4s - loss: 0.0341 - accuracy: 0.9983 - val_loss: 0.3821 - val_accuracy: 0.8893\n",
            "Epoch 39/60\n",
            "10/10 - 4s - loss: 0.0299 - accuracy: 0.9992 - val_loss: 0.3743 - val_accuracy: 0.9027\n",
            "Epoch 40/60\n",
            "10/10 - 4s - loss: 0.0259 - accuracy: 1.0000 - val_loss: 0.3519 - val_accuracy: 0.9027\n",
            "Epoch 41/60\n",
            "10/10 - 4s - loss: 0.0236 - accuracy: 1.0000 - val_loss: 0.3390 - val_accuracy: 0.8993\n",
            "Epoch 42/60\n",
            "10/10 - 4s - loss: 0.0225 - accuracy: 1.0000 - val_loss: 0.3333 - val_accuracy: 0.9094\n",
            "Epoch 43/60\n",
            "10/10 - 4s - loss: 0.0201 - accuracy: 1.0000 - val_loss: 0.3158 - val_accuracy: 0.9161\n",
            "Epoch 44/60\n",
            "10/10 - 4s - loss: 0.0210 - accuracy: 0.9992 - val_loss: 0.3128 - val_accuracy: 0.9195\n",
            "Epoch 45/60\n",
            "10/10 - 4s - loss: 0.0182 - accuracy: 1.0000 - val_loss: 0.3315 - val_accuracy: 0.9161\n",
            "Epoch 46/60\n",
            "10/10 - 4s - loss: 0.0177 - accuracy: 1.0000 - val_loss: 0.3357 - val_accuracy: 0.9128\n",
            "Epoch 47/60\n",
            "10/10 - 4s - loss: 0.0163 - accuracy: 1.0000 - val_loss: 0.3370 - val_accuracy: 0.9128\n",
            "Epoch 48/60\n",
            "10/10 - 4s - loss: 0.0155 - accuracy: 1.0000 - val_loss: 0.3436 - val_accuracy: 0.9128\n",
            "Epoch 49/60\n",
            "10/10 - 4s - loss: 0.0146 - accuracy: 1.0000 - val_loss: 0.3450 - val_accuracy: 0.9128\n",
            "Epoch 50/60\n",
            "10/10 - 4s - loss: 0.0139 - accuracy: 1.0000 - val_loss: 0.3650 - val_accuracy: 0.9128\n",
            "Epoch 51/60\n",
            "10/10 - 4s - loss: 0.0136 - accuracy: 1.0000 - val_loss: 0.3585 - val_accuracy: 0.9128\n",
            "Epoch 52/60\n",
            "10/10 - 4s - loss: 0.0128 - accuracy: 1.0000 - val_loss: 0.3333 - val_accuracy: 0.9128\n",
            "Epoch 53/60\n",
            "10/10 - 4s - loss: 0.0142 - accuracy: 0.9992 - val_loss: 0.3621 - val_accuracy: 0.9094\n",
            "Epoch 54/60\n",
            "10/10 - 4s - loss: 0.0137 - accuracy: 0.9992 - val_loss: 0.4244 - val_accuracy: 0.8993\n",
            "Epoch 55/60\n",
            "10/10 - 4s - loss: 0.0117 - accuracy: 1.0000 - val_loss: 0.4491 - val_accuracy: 0.8993\n",
            "Epoch 56/60\n",
            "10/10 - 4s - loss: 0.0113 - accuracy: 1.0000 - val_loss: 0.4484 - val_accuracy: 0.8993\n",
            "Epoch 57/60\n",
            "10/10 - 4s - loss: 0.0106 - accuracy: 1.0000 - val_loss: 0.4236 - val_accuracy: 0.8993\n",
            "Epoch 58/60\n",
            "10/10 - 4s - loss: 0.0102 - accuracy: 1.0000 - val_loss: 0.4303 - val_accuracy: 0.8926\n",
            "Epoch 59/60\n",
            "10/10 - 4s - loss: 0.0111 - accuracy: 0.9992 - val_loss: 0.4550 - val_accuracy: 0.8993\n"
          ],
          "name": "stdout"
        }
      ]
    },
    {
      "cell_type": "code",
      "metadata": {
        "colab": {
          "base_uri": "https://localhost:8080/"
        },
        "id": "f4b64754",
        "outputId": "46327332-7669-4d32-f011-000f0e389550"
      },
      "source": [
        "model.evaluate(padded_test, y_test)"
      ],
      "id": "f4b64754",
      "execution_count": 45,
      "outputs": [
        {
          "output_type": "stream",
          "text": [
            "10/10 [==============================] - 1s 54ms/step - loss: 0.4550 - accuracy: 0.8993\n"
          ],
          "name": "stdout"
        },
        {
          "output_type": "execute_result",
          "data": {
            "text/plain": [
              "[0.454992413520813, 0.899328887462616]"
            ]
          },
          "metadata": {
            "tags": []
          },
          "execution_count": 45
        }
      ]
    },
    {
      "cell_type": "code",
      "metadata": {
        "colab": {
          "base_uri": "https://localhost:8080/"
        },
        "id": "9f663f06",
        "outputId": "af4ee8b7-ceeb-4168-e739-25d6c31c4027"
      },
      "source": [
        "model = tf.keras.Sequential([\n",
        "    tf.keras.layers.Embedding(input_dim=len(tokenizer.word_index)+1, output_dim=500),\n",
        "    tf.keras.layers.LSTM(16, dropout=0.9),\n",
        "    tf.keras.layers.Dense(5, activation='softmax')\n",
        "])\n",
        "model.compile(loss='categorical_crossentropy',optimizer='adam',metrics=['accuracy'])\n",
        "\n",
        "X_all=np.concatenate((padded_train, padded_test))\n",
        "y_all=np.concatenate((y_train, y_test))\n",
        "\n",
        "class myCallback(tf.keras.callbacks.Callback):\n",
        "    def on_epoch_end(self, epoch, logs={}):\n",
        "        if(logs.get('loss')<=history.history['loss'][-1]):\n",
        "            print(\"Stopped, reach same losses as splitted trial\")\n",
        "            self.model.stop_training = True\n",
        "set_callback = myCallback()\n",
        "\n",
        "history = model.fit(X_all, y_all, epochs=60, batch_size=128,\n",
        "                    callbacks=[set_callback], verbose=2)"
      ],
      "id": "9f663f06",
      "execution_count": 50,
      "outputs": [
        {
          "output_type": "stream",
          "text": [
            "Epoch 1/60\n",
            "12/12 - 5s - loss: 1.6077 - accuracy: 0.2101\n",
            "Epoch 2/60\n",
            "12/12 - 4s - loss: 1.5776 - accuracy: 0.3537\n",
            "Epoch 3/60\n",
            "12/12 - 4s - loss: 1.5325 - accuracy: 0.4302\n",
            "Epoch 4/60\n",
            "12/12 - 4s - loss: 1.4219 - accuracy: 0.4309\n",
            "Epoch 5/60\n",
            "12/12 - 4s - loss: 1.2057 - accuracy: 0.6409\n",
            "Epoch 6/60\n",
            "12/12 - 4s - loss: 1.0611 - accuracy: 0.7866\n",
            "Epoch 7/60\n",
            "12/12 - 4s - loss: 0.9155 - accuracy: 0.9248\n",
            "Epoch 8/60\n",
            "12/12 - 4s - loss: 0.7775 - accuracy: 0.9685\n",
            "Epoch 9/60\n",
            "12/12 - 4s - loss: 0.6646 - accuracy: 0.9832\n",
            "Epoch 10/60\n",
            "12/12 - 4s - loss: 0.5505 - accuracy: 0.9859\n",
            "Epoch 11/60\n",
            "12/12 - 4s - loss: 0.4379 - accuracy: 0.9906\n",
            "Epoch 12/60\n",
            "12/12 - 4s - loss: 0.3481 - accuracy: 0.9933\n",
            "Epoch 13/60\n",
            "12/12 - 4s - loss: 0.2756 - accuracy: 0.9926\n",
            "Epoch 14/60\n",
            "12/12 - 4s - loss: 0.2222 - accuracy: 0.9953\n",
            "Epoch 15/60\n",
            "12/12 - 4s - loss: 0.1922 - accuracy: 0.9926\n",
            "Epoch 16/60\n",
            "12/12 - 4s - loss: 0.1546 - accuracy: 0.9993\n",
            "Epoch 17/60\n",
            "12/12 - 4s - loss: 0.1337 - accuracy: 0.9973\n",
            "Epoch 18/60\n",
            "12/12 - 4s - loss: 0.1139 - accuracy: 0.9987\n",
            "Epoch 19/60\n",
            "12/12 - 4s - loss: 0.0971 - accuracy: 0.9993\n",
            "Epoch 20/60\n",
            "12/12 - 4s - loss: 0.0922 - accuracy: 0.9960\n",
            "Epoch 21/60\n",
            "12/12 - 4s - loss: 0.0788 - accuracy: 0.9987\n",
            "Epoch 22/60\n",
            "12/12 - 4s - loss: 0.0724 - accuracy: 0.9980\n",
            "Epoch 23/60\n",
            "12/12 - 4s - loss: 0.0646 - accuracy: 0.9980\n",
            "Epoch 24/60\n",
            "12/12 - 4s - loss: 0.0588 - accuracy: 0.9973\n",
            "Epoch 25/60\n",
            "12/12 - 4s - loss: 0.0515 - accuracy: 0.9993\n",
            "Epoch 26/60\n",
            "12/12 - 4s - loss: 0.0448 - accuracy: 1.0000\n",
            "Epoch 27/60\n",
            "12/12 - 4s - loss: 0.0407 - accuracy: 0.9993\n",
            "Epoch 28/60\n",
            "12/12 - 4s - loss: 0.0378 - accuracy: 0.9993\n",
            "Epoch 29/60\n",
            "12/12 - 4s - loss: 0.0353 - accuracy: 0.9987\n",
            "Epoch 30/60\n",
            "12/12 - 4s - loss: 0.0355 - accuracy: 0.9980\n",
            "Epoch 31/60\n",
            "12/12 - 4s - loss: 0.0308 - accuracy: 0.9987\n",
            "Epoch 32/60\n",
            "12/12 - 4s - loss: 0.0312 - accuracy: 0.9993\n",
            "Epoch 33/60\n",
            "12/12 - 4s - loss: 0.0306 - accuracy: 0.9987\n",
            "Epoch 34/60\n",
            "12/12 - 4s - loss: 0.0241 - accuracy: 1.0000\n",
            "Epoch 35/60\n",
            "12/12 - 4s - loss: 0.0221 - accuracy: 1.0000\n",
            "Epoch 36/60\n",
            "12/12 - 4s - loss: 0.0219 - accuracy: 0.9993\n",
            "Epoch 37/60\n",
            "12/12 - 4s - loss: 0.0192 - accuracy: 1.0000\n",
            "Epoch 38/60\n",
            "12/12 - 4s - loss: 0.0188 - accuracy: 0.9993\n",
            "Epoch 39/60\n",
            "12/12 - 4s - loss: 0.0170 - accuracy: 1.0000\n",
            "Epoch 40/60\n",
            "12/12 - 4s - loss: 0.0158 - accuracy: 1.0000\n",
            "Epoch 41/60\n",
            "12/12 - 4s - loss: 0.0152 - accuracy: 1.0000\n",
            "Epoch 42/60\n",
            "12/12 - 4s - loss: 0.0145 - accuracy: 1.0000\n",
            "Epoch 43/60\n",
            "12/12 - 4s - loss: 0.0170 - accuracy: 0.9987\n",
            "Epoch 44/60\n",
            "12/12 - 4s - loss: 0.0215 - accuracy: 0.9960\n",
            "Epoch 45/60\n",
            "12/12 - 4s - loss: 0.0166 - accuracy: 0.9993\n",
            "Epoch 46/60\n",
            "12/12 - 4s - loss: 0.0164 - accuracy: 0.9980\n",
            "Epoch 47/60\n",
            "12/12 - 4s - loss: 0.0134 - accuracy: 1.0000\n",
            "Epoch 48/60\n",
            "12/12 - 4s - loss: 0.0137 - accuracy: 0.9993\n",
            "Epoch 49/60\n",
            "12/12 - 4s - loss: 0.0202 - accuracy: 0.9973\n",
            "Epoch 50/60\n",
            "12/12 - 4s - loss: 0.0112 - accuracy: 1.0000\n",
            "Epoch 51/60\n",
            "12/12 - 4s - loss: 0.0116 - accuracy: 0.9993\n",
            "Epoch 52/60\n",
            "12/12 - 4s - loss: 0.0102 - accuracy: 1.0000\n",
            "Stopped, reach same losses as splitted trial\n"
          ],
          "name": "stdout"
        }
      ]
    },
    {
      "cell_type": "code",
      "metadata": {
        "colab": {
          "base_uri": "https://localhost:8080/",
          "height": 414
        },
        "id": "qzzjIG9vMqBM",
        "outputId": "a782cff0-ddb3-425a-ca43-23f156f58330"
      },
      "source": [
        "sample"
      ],
      "id": "qzzjIG9vMqBM",
      "execution_count": 51,
      "outputs": [
        {
          "output_type": "execute_result",
          "data": {
            "text/html": [
              "<div>\n",
              "<style scoped>\n",
              "    .dataframe tbody tr th:only-of-type {\n",
              "        vertical-align: middle;\n",
              "    }\n",
              "\n",
              "    .dataframe tbody tr th {\n",
              "        vertical-align: top;\n",
              "    }\n",
              "\n",
              "    .dataframe thead th {\n",
              "        text-align: right;\n",
              "    }\n",
              "</style>\n",
              "<table border=\"1\" class=\"dataframe\">\n",
              "  <thead>\n",
              "    <tr style=\"text-align: right;\">\n",
              "      <th></th>\n",
              "      <th>ArticleId</th>\n",
              "      <th>Category</th>\n",
              "    </tr>\n",
              "  </thead>\n",
              "  <tbody>\n",
              "    <tr>\n",
              "      <th>0</th>\n",
              "      <td>1018</td>\n",
              "      <td>sport</td>\n",
              "    </tr>\n",
              "    <tr>\n",
              "      <th>1</th>\n",
              "      <td>1319</td>\n",
              "      <td>tech</td>\n",
              "    </tr>\n",
              "    <tr>\n",
              "      <th>2</th>\n",
              "      <td>1138</td>\n",
              "      <td>business</td>\n",
              "    </tr>\n",
              "    <tr>\n",
              "      <th>3</th>\n",
              "      <td>459</td>\n",
              "      <td>entertainment</td>\n",
              "    </tr>\n",
              "    <tr>\n",
              "      <th>4</th>\n",
              "      <td>1020</td>\n",
              "      <td>politics</td>\n",
              "    </tr>\n",
              "    <tr>\n",
              "      <th>...</th>\n",
              "      <td>...</td>\n",
              "      <td>...</td>\n",
              "    </tr>\n",
              "    <tr>\n",
              "      <th>730</th>\n",
              "      <td>1923</td>\n",
              "      <td>sport</td>\n",
              "    </tr>\n",
              "    <tr>\n",
              "      <th>731</th>\n",
              "      <td>373</td>\n",
              "      <td>tech</td>\n",
              "    </tr>\n",
              "    <tr>\n",
              "      <th>732</th>\n",
              "      <td>1704</td>\n",
              "      <td>business</td>\n",
              "    </tr>\n",
              "    <tr>\n",
              "      <th>733</th>\n",
              "      <td>206</td>\n",
              "      <td>entertainment</td>\n",
              "    </tr>\n",
              "    <tr>\n",
              "      <th>734</th>\n",
              "      <td>471</td>\n",
              "      <td>politics</td>\n",
              "    </tr>\n",
              "  </tbody>\n",
              "</table>\n",
              "<p>735 rows × 2 columns</p>\n",
              "</div>"
            ],
            "text/plain": [
              "     ArticleId       Category\n",
              "0         1018          sport\n",
              "1         1319           tech\n",
              "2         1138       business\n",
              "3          459  entertainment\n",
              "4         1020       politics\n",
              "..         ...            ...\n",
              "730       1923          sport\n",
              "731        373           tech\n",
              "732       1704       business\n",
              "733        206  entertainment\n",
              "734        471       politics\n",
              "\n",
              "[735 rows x 2 columns]"
            ]
          },
          "metadata": {
            "tags": []
          },
          "execution_count": 51
        }
      ]
    },
    {
      "cell_type": "code",
      "metadata": {
        "id": "PAunroJiOGTC"
      },
      "source": [
        "test['Text'] = test['Text'].apply(txtprocess)\n",
        "test['Text'] = test['Text'].apply(lambda x: remove_stopwords(x))\n",
        "testtext = test['Text'].values\n",
        " \n",
        "sekuenstesttext = tokenizer.texts_to_sequences(testtext)\n",
        " \n",
        "paddedtesttext = pad_sequences(sekuenstesttext)"
      ],
      "id": "PAunroJiOGTC",
      "execution_count": 52,
      "outputs": []
    },
    {
      "cell_type": "code",
      "metadata": {
        "colab": {
          "base_uri": "https://localhost:8080/",
          "height": 414
        },
        "id": "rTQ2n6EqRB7o",
        "outputId": "2c06725a-15df-4c0e-e485-e9a3f3652741"
      },
      "source": [
        "answer=np.argmax(model.predict(paddedtesttext), axis=-1)\n",
        "answer=pd.DataFrame(answer, columns=['Category'])\n",
        "\n",
        "mapping=dict(enumerate(category.columns))\n",
        "answer.Category=answer.Category.map(mapping)\n",
        "\n",
        "answer=pd.concat((test.ArticleId, answer),1)\n",
        "answer"
      ],
      "id": "rTQ2n6EqRB7o",
      "execution_count": 53,
      "outputs": [
        {
          "output_type": "execute_result",
          "data": {
            "text/html": [
              "<div>\n",
              "<style scoped>\n",
              "    .dataframe tbody tr th:only-of-type {\n",
              "        vertical-align: middle;\n",
              "    }\n",
              "\n",
              "    .dataframe tbody tr th {\n",
              "        vertical-align: top;\n",
              "    }\n",
              "\n",
              "    .dataframe thead th {\n",
              "        text-align: right;\n",
              "    }\n",
              "</style>\n",
              "<table border=\"1\" class=\"dataframe\">\n",
              "  <thead>\n",
              "    <tr style=\"text-align: right;\">\n",
              "      <th></th>\n",
              "      <th>ArticleId</th>\n",
              "      <th>Category</th>\n",
              "    </tr>\n",
              "  </thead>\n",
              "  <tbody>\n",
              "    <tr>\n",
              "      <th>0</th>\n",
              "      <td>1018</td>\n",
              "      <td>sport</td>\n",
              "    </tr>\n",
              "    <tr>\n",
              "      <th>1</th>\n",
              "      <td>1319</td>\n",
              "      <td>tech</td>\n",
              "    </tr>\n",
              "    <tr>\n",
              "      <th>2</th>\n",
              "      <td>1138</td>\n",
              "      <td>sport</td>\n",
              "    </tr>\n",
              "    <tr>\n",
              "      <th>3</th>\n",
              "      <td>459</td>\n",
              "      <td>business</td>\n",
              "    </tr>\n",
              "    <tr>\n",
              "      <th>4</th>\n",
              "      <td>1020</td>\n",
              "      <td>sport</td>\n",
              "    </tr>\n",
              "    <tr>\n",
              "      <th>...</th>\n",
              "      <td>...</td>\n",
              "      <td>...</td>\n",
              "    </tr>\n",
              "    <tr>\n",
              "      <th>730</th>\n",
              "      <td>1923</td>\n",
              "      <td>business</td>\n",
              "    </tr>\n",
              "    <tr>\n",
              "      <th>731</th>\n",
              "      <td>373</td>\n",
              "      <td>entertainment</td>\n",
              "    </tr>\n",
              "    <tr>\n",
              "      <th>732</th>\n",
              "      <td>1704</td>\n",
              "      <td>politics</td>\n",
              "    </tr>\n",
              "    <tr>\n",
              "      <th>733</th>\n",
              "      <td>206</td>\n",
              "      <td>business</td>\n",
              "    </tr>\n",
              "    <tr>\n",
              "      <th>734</th>\n",
              "      <td>471</td>\n",
              "      <td>politics</td>\n",
              "    </tr>\n",
              "  </tbody>\n",
              "</table>\n",
              "<p>735 rows × 2 columns</p>\n",
              "</div>"
            ],
            "text/plain": [
              "     ArticleId       Category\n",
              "0         1018          sport\n",
              "1         1319           tech\n",
              "2         1138          sport\n",
              "3          459       business\n",
              "4         1020          sport\n",
              "..         ...            ...\n",
              "730       1923       business\n",
              "731        373  entertainment\n",
              "732       1704       politics\n",
              "733        206       business\n",
              "734        471       politics\n",
              "\n",
              "[735 rows x 2 columns]"
            ]
          },
          "metadata": {
            "tags": []
          },
          "execution_count": 53
        }
      ]
    },
    {
      "cell_type": "code",
      "metadata": {
        "id": "-h9hpcd5QqbL"
      },
      "source": [
        "answer.to_csv('bbc-ai-answer.csv', index=False)"
      ],
      "id": "-h9hpcd5QqbL",
      "execution_count": 54,
      "outputs": []
    }
  ]
}